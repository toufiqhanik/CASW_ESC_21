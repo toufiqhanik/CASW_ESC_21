{
 "cells": [
  {
   "cell_type": "markdown",
   "id": "aa25aad0",
   "metadata": {},
   "source": [
    "### Defining the board name."
   ]
  },
  {
   "cell_type": "code",
   "execution_count": 1,
   "id": "0b4b2b0c",
   "metadata": {},
   "outputs": [],
   "source": [
    "SCOPETYPE = 'CWNANO'\n",
    "PLATFORM = 'CWNANO'\n",
    "CRYPTO_TARGET = 'NONE'"
   ]
  },
  {
   "cell_type": "markdown",
   "id": "f790f1d4",
   "metadata": {},
   "source": [
    "### Configuration the CWNANO board."
   ]
  },
  {
   "cell_type": "code",
   "execution_count": 2,
   "id": "c2c167a5",
   "metadata": {},
   "outputs": [
    {
     "name": "stdout",
     "output_type": "stream",
     "text": [
      "INFO: Found ChipWhisperer😍\n"
     ]
    }
   ],
   "source": [
    "%run \"../../../Helper_Scripts/Setup_Generic.ipynb\""
   ]
  },
  {
   "cell_type": "markdown",
   "id": "43de44f4",
   "metadata": {},
   "source": [
    "### Programming board with the provided HEX file."
   ]
  },
  {
   "cell_type": "code",
   "execution_count": 6,
   "id": "8be2f8f7",
   "metadata": {},
   "outputs": [
    {
     "name": "stdout",
     "output_type": "stream",
     "text": [
      "Detected known STMF32: STM32F04xxx\n",
      "Extended erase (0x44), this can take ten seconds or more\n",
      "Attempting to program 5563 bytes at 0x8000000\n",
      "STM32F Programming flash...\n",
      "STM32F Reading flash...\n",
      "Verified flash OK, 5563 bytes\n"
     ]
    }
   ],
   "source": [
    "fw_path = \"../homebrew-CWNANO.hex\"\n",
    "cw.program_target(scope, cw.programmers.STM32FProgrammer, fw_path)"
   ]
  },
  {
   "cell_type": "markdown",
   "id": "f8994cbe",
   "metadata": {},
   "source": [
    "### Here we defined sb_1 and sb_2 variable as the .c code used the same one for the encryption."
   ]
  },
  {
   "cell_type": "code",
   "execution_count": 14,
   "id": "a1d9f25b",
   "metadata": {},
   "outputs": [],
   "source": [
    "sb_1 = [\n",
    "  65, 70, 5, 83, 184, 146, 151, 217, 45, 134, 38, 214, 130, 128, 66, 249,\n",
    "  172, 34, 197, 237, 200, 249, 103, 215, 127, 38, 19, 166, 21, 175, 77, 202,\n",
    "  234, 109, 5, 33, 41, 28, 160, 9, 80, 27, 88, 64, 122, 157, 85, 244,\n",
    "  105, 61, 216, 85, 125, 164, 14, 120, 243, 76, 177, 77, 46, 254, 141, 83,\n",
    "  188, 144, 67, 17, 49, 103, 113, 39, 185, 50, 137, 76, 202, 89, 206, 176,\n",
    "  169, 137, 145, 196, 37, 71, 98, 97, 9, 88, 242, 171, 158, 209, 236, 211,\n",
    "  195, 204, 193, 13, 65, 22, 114, 160, 95, 3, 179, 28, 123, 224, 124, 177,\n",
    "  89, 142, 12, 150, 28, 180, 8, 48, 218, 92, 60, 223, 177, 231, 196, 251,\n",
    "  218, 147, 98, 77, 105, 135, 168, 110, 78, 220, 169, 113, 224, 82, 178, 44,\n",
    "  91, 75, 114, 88, 195, 104, 215, 4, 55, 246, 224, 52, 152, 102, 28, 214,\n",
    "  171, 31, 159, 104, 196, 78, 161, 255, 174, 98, 179, 90, 16, 42, 166, 21,\n",
    "  134, 63, 76, 22, 120, 19, 1, 12, 109, 252, 21, 170, 131, 121, 16, 38,\n",
    "  45, 80, 42, 206, 205, 229, 105, 175, 153, 49, 33, 157, 169, 168, 110, 58,\n",
    "  83, 133, 49, 74, 159, 147, 254, 174, 5, 2, 112, 66, 157, 247, 145, 115,\n",
    "  3, 47, 173, 223, 158, 62, 46, 142, 184, 21, 117, 152, 143, 248, 182, 100,\n",
    "  64, 173, 126, 199, 129, 1, 81, 27, 142, 5, 152, 80, 214, 127, 139, 146 ]\n",
    "\n",
    "sb_2 = [\n",
    "  45, 227, 139, 61, 153, 80, 53, 182, 106, 69, 24, 130, 47, 249, 223, 37,\n",
    "  146, 37, 53, 79, 10, 95, 159, 148, 208, 126, 112, 204, 57, 198, 20, 48,\n",
    "  139, 119, 59, 182, 9, 54, 153, 39, 8, 231, 131, 188, 46, 198, 32, 106,\n",
    "  125, 137, 126, 154, 115, 233, 190, 211, 81, 25, 216, 215, 9, 116, 20, 12,\n",
    "  191, 204, 66, 69, 203, 253, 124, 117, 100, 104, 16, 35, 245, 251, 101, 63,\n",
    "  177, 225, 182, 219, 137, 134, 92, 117, 208, 23, 84, 249, 197, 26, 248, 158,\n",
    "  92, 93, 38, 24, 139, 102, 12, 44, 124, 66, 80, 239, 170, 143, 34, 186,\n",
    "  35, 151, 31, 96, 33, 234, 91, 43, 170, 190, 173, 16, 18, 177, 213, 49,\n",
    "  37, 126, 27, 211, 215, 227, 226, 12, 54, 35, 154, 71, 7, 55, 112, 224,\n",
    "  86, 26, 18, 82, 108, 99, 215, 104, 106, 119, 156, 196, 113, 153, 118, 177,\n",
    "  146, 156, 119, 16, 75, 186, 141, 43, 40, 92, 125, 152, 201, 213, 210, 109,\n",
    "  73, 120, 9, 50, 239, 210, 183, 242, 46, 69, 153, 10, 154, 222, 203, 38,\n",
    "  107, 219, 245, 148, 77, 126, 32, 127, 201, 9, 209, 18, 1, 33, 83, 190,\n",
    "  173, 157, 3, 151, 247, 190, 142, 17, 179, 207, 102, 181, 82, 186, 216, 255,\n",
    "  234, 89, 199, 222, 97, 122, 159, 84, 235, 213, 94, 223, 174, 252, 101, 134,\n",
    "  241, 43, 22, 47, 26, 115, 81, 254, 19, 7, 213, 189, 5, 175, 49, 110 ]"
   ]
  },
  {
   "cell_type": "markdown",
   "id": "45884855",
   "metadata": {},
   "source": [
    "### As the encryption algorithimis a kind of byte based encryption. We randomly genertae a plain text and qury the encryption code of chipwhisperer, then we also implement the same encryption with a hypothetical key, as far as the related cipher byte are equal we record the hypothetical key. Intially we do encryption with two plain text to find the key. Then we apply intercetion on the recovered key. If the key for all byte are unique we terminate the process, unless we generate another plain text and repeat the process."
   ]
  },
  {
   "cell_type": "code",
   "execution_count": 15,
   "id": "3997b859",
   "metadata": {},
   "outputs": [
    {
     "name": "stdout",
     "output_type": "stream",
     "text": [
      "The Key value are: [1, 17, 164, 59, 181, 74, 147, 142, 128, 246, 79, 38, 254, 100, 169, 21]\n"
     ]
    }
   ],
   "source": [
    "import random\n",
    "import copy\n",
    "\n",
    "def check_dict(dic_in):\n",
    "    out = 1\n",
    "    for key,value in dic_in.items():\n",
    "        if(len(dic_in[key]) == 1):\n",
    "            out = out * 1\n",
    "        else:\n",
    "            out = out * 0\n",
    "    return out\n",
    "              \n",
    "plain_dict0 = {\"key_0\":[], \"key_1\":[],\"key_2\":[],\"key_3\":[],\"key_4\":[],\"key_5\":[],\"key_6\":[],\"key_7\":[],\"key_8\":[], \"key_9\":[],\"key_10\":[],\"key_11\":[],\"key_12\":[],\"key_13\":[],\"key_14\":[],\"key_15\":[]}\n",
    "plain_dict1 = {\"key_0\":[], \"key_1\":[],\"key_2\":[],\"key_3\":[],\"key_4\":[],\"key_5\":[],\"key_6\":[],\"key_7\":[],\"key_8\":[], \"key_9\":[],\"key_10\":[],\"key_11\":[],\"key_12\":[],\"key_13\":[],\"key_14\":[],\"key_15\":[]}\n",
    "key_list = []\n",
    "\n",
    "repeat = 0\n",
    "while (check_dict(plain_dict0) != 1):\n",
    "    plain_dict1 = copy.deepcopy(plain_dict0)\n",
    "    plain_dict0 = {\"key_0\":[], \"key_1\":[],\"key_2\":[],\"key_3\":[],\"key_4\":[],\"key_5\":[],\"key_6\":[],\"key_7\":[],\"key_8\":[], \"key_9\":[],\"key_10\":[],\"key_11\":[],\"key_12\":[],\"key_13\":[],\"key_14\":[],\"key_15\":[]}\n",
    "    data = []\n",
    "    for num in range(16):\n",
    "        n = random.randint(0, 255)\n",
    "        data.append(n)   \n",
    "    out = data.copy()  \n",
    "    msg = bytearray([data[0],data[1],data[2],data[3],data[4],data[5],data[6],data[7],data[8], data[9],data[10],data[11],data[12],data[13],data[14],data[15]])\n",
    "    target.simpleserial_write('e',msg)\n",
    "    cipher = target.simpleserial_read('r',16)\n",
    "    for i in range(16):\n",
    "        for k in range(256):\n",
    "            for j in range (8):\n",
    "                key_bit = (k >> j) & 1\n",
    "                if(key_bit):\n",
    "                    out[i] = sb_1[out[i]] - sb_2[out[i]]\n",
    "                    out[i] = out[i] & 0xff\n",
    "                    out[i] ^= 0xFF\n",
    "                    out[i] += out[sb_2[out[i]]%16]\n",
    "                    out[i] = out[i] & 0xff\n",
    "                else:\n",
    "                    out[i] = (out[i] * out[i])%256\n",
    "                    out[i] = (out[i] * sb_2[out[i]])%256\n",
    "                    out[i] = (out[i] - out[sb_1[out[i]]%16]) & 0xff\n",
    "            if(out[i] == cipher[i]):\n",
    "                plain_dict0['key_'+str(i)].append(k)\n",
    "            out[i] = data[i]    \n",
    "        out[i] = cipher[i]\n",
    "    repeat = repeat + 1\n",
    "    if repeat >= 2:\n",
    "        for key,value in plain_dict0.items():\n",
    "            plain_dict0[key] = list(set(plain_dict0[key]) & set(plain_dict1[key]))\n",
    "\n",
    "Final_key = []\n",
    "for i in range (16): \n",
    "    Final_key.append(plain_dict0['key_'+str(i)][0])\n",
    "print(\"The Key value are: {}\".format(list(Final_key)))"
   ]
  },
  {
   "cell_type": "markdown",
   "id": "32e76b99",
   "metadata": {},
   "source": [
    "### This is the Answer:\n",
    "### Key : \n",
    "### [1, 17, 164, 59, 181, 74, 147, 142, 128, 246, 79, 38, 254, 100, 169, 21]"
   ]
  }
 ],
 "metadata": {
  "kernelspec": {
   "display_name": "Python 3",
   "language": "python",
   "name": "python3"
  },
  "language_info": {
   "codemirror_mode": {
    "name": "ipython",
    "version": 3
   },
   "file_extension": ".py",
   "mimetype": "text/x-python",
   "name": "python",
   "nbconvert_exporter": "python",
   "pygments_lexer": "ipython3",
   "version": "3.7.7"
  }
 },
 "nbformat": 4,
 "nbformat_minor": 5
}

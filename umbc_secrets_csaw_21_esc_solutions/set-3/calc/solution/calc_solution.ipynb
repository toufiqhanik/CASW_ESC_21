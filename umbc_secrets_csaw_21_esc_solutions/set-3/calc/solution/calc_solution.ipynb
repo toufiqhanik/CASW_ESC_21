{
 "cells": [
  {
   "cell_type": "markdown",
   "id": "9391a5c9",
   "metadata": {},
   "source": [
    "## Generic setup for the CW Nano"
   ]
  },
  {
   "cell_type": "code",
   "execution_count": 9,
   "id": "072018d1",
   "metadata": {},
   "outputs": [
    {
     "name": "stdout",
     "output_type": "stream",
     "text": [
      "INFO: Found ChipWhisperer😍\n"
     ]
    }
   ],
   "source": [
    "SCOPETYPE = 'CWNANO'\n",
    "PLATFORM = 'CWNANO'\n",
    "CRYPTO_TARGET = 'NONE'\n",
    "%run \"../../../Helper_Scripts/Setup_Generic.ipynb\"\n",
    "scope.adc.samples = 5000\n",
    "scope._cwusb.usbtx.rep = 0x81\n",
    "scope._cwusb.usbtx.wep = 0x02"
   ]
  },
  {
   "cell_type": "markdown",
   "id": "c8b9071c",
   "metadata": {},
   "source": [
    "## Calling The path for the hex file and programming the board"
   ]
  },
  {
   "cell_type": "code",
   "execution_count": 10,
   "id": "728bc4a8",
   "metadata": {},
   "outputs": [
    {
     "name": "stdout",
     "output_type": "stream",
     "text": [
      "Detected known STMF32: STM32F04xxx\n",
      "Extended erase (0x44), this can take ten seconds or more\n",
      "Attempting to program 13531 bytes at 0x8000000\n",
      "STM32F Programming flash...\n",
      "STM32F Reading flash...\n",
      "Verified flash OK, 13531 bytes\n"
     ]
    }
   ],
   "source": [
    "fw_path = \"../calc-CWNANO.hex\"\n",
    "cw.program_target(scope, cw.programmers.STM32FProgrammer, fw_path)"
   ]
  },
  {
   "cell_type": "markdown",
   "id": "3e87cbb4",
   "metadata": {},
   "source": [
    "Reboot function is used to manipulate the array bytes."
   ]
  },
  {
   "cell_type": "code",
   "execution_count": 11,
   "id": "2163d7c0",
   "metadata": {},
   "outputs": [],
   "source": [
    "def reboot_flush():\n",
    "    scope.io.nrst = False\n",
    "    time.sleep(0.05)\n",
    "    scope.io.nrst = \"high_z\"\n",
    "    time.sleep(0.05)\n",
    "    #Flush garbage too\n",
    "    target.flush()"
   ]
  },
  {
   "cell_type": "markdown",
   "id": "8602a485",
   "metadata": {},
   "source": [
    "#############################################\n",
    "There are two possible attack can be applied in this operation. \n",
    "\n",
    "1# CPA attack. However, The variation is very less. Even we found some bytes but the attack is not strong enough. Also, CPA has many calculation and comperatively more execution time.\n",
    "\n",
    "2# Buffer overflow with addition and substraction. As soon as the buffer overflow happens there is a power drop. We are focusing ion this one.\n",
    "\n",
    "#############################################\n",
    "\n",
    "The main assumtion of this attack is that buffer overflow. That will be used as the vulnerability.\n",
    "\n",
    "For example: A byte has the value 255 as 1111 1111. As soon as we add 1 it will be 1 0000 000. Here, The hamming weight will drop from 8 to 1. This will have a visible impact in the power. Similarly, if we substract 1 from 0000 0000 it will generate 1111 1111. There wil be similar impact.\n",
    "\n",
    "Now, as the calculator hold the memory, and we have the option to manipulate the memory by performing calculation. We can use this function to manipulate the data inside.\n",
    "\n",
    "The C code has a array as a int. Which is 32 bit (4 byte) and array has 3 elements. Difficulty to attack this program with brut force is 2^(32*32*32). Which is very hard or even not possible considering time and resources.\n",
    "\n",
    "To simplify the attack, we only want to attack a byte of the array elemants. Therefor, we have only need to attck 4 byte in 4 loop.\n",
    "\n",
    "Steps:\n",
    "    \n",
    "    1# We need to get rid of other bytes except the one we are attacking. \n",
    "    \n",
    "    For example: if are attcking byte 0. Then we can remove the byte 3-1 as shifting the byte 0, 3*8 times to left. This will \n",
    "    keep the byte 0 to byte3. Then as we are using lsb byte to perform the operation, we need to shift the byte0 from msb \n",
    "    byte3. We can shift it 3*8 times to right. This will only keep the byte0 in the array. However baserd on the msb bit of the \n",
    "    leftover byte it will padd 1s or 0s in other3 msb bytes. Which is a advantage for the attcker to perform buffer overflow\n",
    "    with sudden power drop/rise.        \n",
    "    Main array-->  |<byte3>|<byte2>|<byte1>|<byte0>| \n",
    "    Shift left-->  |<byte0>|<*****>|<*****>|<*****>| (Shift left can be done by multiply by 2 for one shift right)\n",
    "    Shift right->  |<*1/0*>|<*1/0*>|<*1/0*>|<byte0>| (Shift right can be done by dividing by 2 for one shift left)\n",
    "    \n",
    "    \n",
    "    \n",
    "    2# To get a higher power drop, we need a transaction of 0000 0000 to 1111 1111 or vice versa.\n",
    "    therefor we will collect the power traces for addition of 0 to 255 as well as substraction 0 to 255.\n",
    "    \n",
    "    3. Repeat step 1-2 for each byte and collect the power traces for each byte.\n",
    "    ##Note that, The power traces should be less noisy. Therefore we can collect the traces multiple times for same operation \n",
    "    and get the mean of thiose to decrerase the effect of noise. For our case we used 20 repeted trace collection. (Less is \n",
    "    also ok.)\n",
    "        \n",
    "    4. Perform the attack on the power traces and find the possible keys.\n",
    "    \n",
    "    \n",
    "    \n",
    "\n"
   ]
  },
  {
   "cell_type": "code",
   "execution_count": 1,
   "id": "83c73581",
   "metadata": {},
   "outputs": [
    {
     "name": "stdout",
     "output_type": "stream",
     "text": [
      "Byte: 1\n"
     ]
    },
    {
     "ename": "NameError",
     "evalue": "name 'reboot_flush' is not defined",
     "output_type": "error",
     "traceback": [
      "\u001b[1;31m---------------------------------------------------------------------------\u001b[0m",
      "\u001b[1;31mNameError\u001b[0m                                 Traceback (most recent call last)",
      "\u001b[1;32m<ipython-input-1-0cb9b7726352>\u001b[0m in \u001b[0;36m<module>\u001b[1;34m\u001b[0m\n\u001b[0;32m      6\u001b[0m \u001b[1;32mfor\u001b[0m \u001b[0mbyte\u001b[0m \u001b[1;32min\u001b[0m \u001b[0mrange\u001b[0m \u001b[1;33m(\u001b[0m\u001b[1;36m1\u001b[0m\u001b[1;33m,\u001b[0m\u001b[1;36m5\u001b[0m\u001b[1;33m)\u001b[0m\u001b[1;33m:\u001b[0m\u001b[1;33m\u001b[0m\u001b[1;33m\u001b[0m\u001b[0m\n\u001b[0;32m      7\u001b[0m     \u001b[0mprint\u001b[0m\u001b[1;33m(\u001b[0m\u001b[1;34m\"Byte:\"\u001b[0m\u001b[1;33m,\u001b[0m\u001b[0mbyte\u001b[0m\u001b[1;33m)\u001b[0m\u001b[1;33m\u001b[0m\u001b[1;33m\u001b[0m\u001b[0m\n\u001b[1;32m----> 8\u001b[1;33m     \u001b[0mreboot_flush\u001b[0m\u001b[1;33m(\u001b[0m\u001b[1;33m)\u001b[0m\u001b[1;33m\u001b[0m\u001b[1;33m\u001b[0m\u001b[0m\n\u001b[0m\u001b[0;32m      9\u001b[0m \u001b[1;33m\u001b[0m\u001b[0m\n\u001b[0;32m     10\u001b[0m     \u001b[1;31m#change the value 1 to 4  at a time and save the power traces\u001b[0m\u001b[1;33m\u001b[0m\u001b[1;33m\u001b[0m\u001b[1;33m\u001b[0m\u001b[0m\n",
      "\u001b[1;31mNameError\u001b[0m: name 'reboot_flush' is not defined"
     ]
    }
   ],
   "source": [
    "#####   Attention #####\n",
    "#Run this code if you only need to take the power traces.\n",
    "#Otherwise, Power traces are already pre-recorded and saved in the numpy files in this directory for the given hex file\n",
    "#Recording power traces need little time. As we record multiple times for each byte as well as for reducing the noise.\n",
    "\n",
    "import time\n",
    "from tqdm.notebook import tqdm, trange\n",
    "import numpy as np\n",
    "import matplotlib.pyplot as plt\n",
    "\n",
    "for byte in range (1,5):\n",
    "    print(\"Byte:\",byte)\n",
    "    reboot_flush()\n",
    "\n",
    "    #change the value 1 to 4  at a time and save the power traces\n",
    "\n",
    "\n",
    "    for i in range ((4-byte)*4):\n",
    "        msg=[2**2]     \n",
    "        scope.arm()\n",
    "        target.simpleserial_write('m',bytearray(msg))  \n",
    "        scope.capture()\n",
    "\n",
    "    for i in range (3*4):\n",
    "        msg=[2**2]     \n",
    "        scope.arm()\n",
    "        target.simpleserial_write('d',bytearray(msg))  \n",
    "        scope.capture()\n",
    "\n",
    "\n",
    "    T=40\n",
    "    D= 256\n",
    "\n",
    "    repeat=20\n",
    "\n",
    "    print(\"############## Substraction #####################\")    \n",
    "\n",
    "    base_power_substract=np.zeros([D,T],dtype='float')\n",
    "\n",
    "    for i in trange (D):\n",
    "        msg=[i % 256] \n",
    "\n",
    "        repeated_trace=np.zeros([repeat,T],dtype='float')\n",
    "        for j in range (repeat): \n",
    "\n",
    "            scope.arm()\n",
    "            target.simpleserial_write('s',bytearray(msg))    \n",
    "            scope.capture()\n",
    "            repeated_trace[j,:]=scope.get_last_trace()[0:T] \n",
    "\n",
    "\n",
    "            scope.arm()\n",
    "            target.simpleserial_write('p',bytearray(msg))\n",
    "            scope.capture()\n",
    "\n",
    "        base_power_substract[i,:]=np.mean(repeated_trace[:,:], axis=0)\n",
    "\n",
    "\n",
    "    np.save(\"calc_new_pow_byte%d_sub.npy\" %byte,base_power_substract)   \n",
    "    print(\"############## Addition #####################\")    \n",
    "    ###\n",
    "    base_power_plus=np.zeros([D,T],dtype='float')\n",
    "\n",
    "    for i in trange (D):\n",
    "        msg=[i % 256] \n",
    "\n",
    "        repeated_trace=np.zeros([repeat,T],dtype='float')\n",
    "        for j in range (repeat): \n",
    "\n",
    "            scope.arm()\n",
    "            target.simpleserial_write('p',bytearray(msg))             \n",
    "            scope.capture()\n",
    "            repeated_trace[j,:]=scope.get_last_trace()[0:T]         \n",
    "\n",
    "            scope.arm()\n",
    "            target.simpleserial_write('s',bytearray(msg))\n",
    "            scope.capture()\n",
    "\n",
    "        base_power_plus[i,:]=np.mean(repeated_trace[:,:], axis=0)\n",
    "    np.save(\"calc_new_pow_byte%d_plus.npy\" %byte,base_power_plus)   \n",
    "\n"
   ]
  },
  {
   "cell_type": "markdown",
   "id": "e1460835",
   "metadata": {},
   "source": [
    "#################################################\n",
    "\n",
    "Now, we will attack on the pre-recorded power traces.\n",
    "\n",
    "We found that, if the byte value is positive, I mean if 0-127 then we get 0 padded in msb bytes after getting rid of other bytes. However if the byte value is negative or 128-255 then we get 1 padded in msb bits. \n",
    "\n",
    "As we dont know the byte value is positive or negative or MSB is 1 or 0. We need to consider both cases to find the byte value. We will use power for substraction for find the values related to 0-127 and addition or plus for finding the value between 128-255.\n",
    "\n",
    "During attack for each byte for power between 0-255 we will perform correlation with previous power. If, we find that the correlation is high then it means that no power drop/rise for buffer overflow. However, as soon as we see that there is a high drop of correlation comparing other index, its the memory value.\n",
    "\n",
    "Then, for ploting purposes we can make it reverse by substrcating from 1. This will show that there will be a high pick ,in one index, that will be the memory byte.\n",
    "\n",
    "By repeating this for every byte we will get an 12 bytes array for the memory element. However, as we dont know the value is positive or negative, we will have 2 12 byte arrays. Based on the high corelation, between two arrays we will chose the one element for each indexes and find the final memory. \n",
    "\n",
    "After finding the guessed elements its time to verify..\n",
    "\n",
    "\n",
    "# Attention: please change \"base_power_substract\" as needed\n"
   ]
  },
  {
   "cell_type": "code",
   "execution_count": 12,
   "id": "ecfc4e49",
   "metadata": {},
   "outputs": [
    {
     "name": "stdout",
     "output_type": "stream",
     "text": [
      "Positive Memory: [103  30  58 206 180  30 157 119 231   5  33 119]\n",
      "Negative Memory: [179 211 156 205 179 127 156 191 230   4  32 118]\n",
      "Final Memory: [103 211  58 205 179  30 156 191 230   5  33 119]\n",
      "Please Run next step if final memory ins not verified\n"
     ]
    }
   ],
   "source": [
    "from tqdm.notebook import tqdm, trange\n",
    "import matplotlib.pyplot as plt\n",
    "from scipy.stats import pearsonr\n",
    "import numpy as np\n",
    "import time\n",
    "\n",
    "T=40\n",
    "D= 256\n",
    "k_possible=255\n",
    "t_init_list=[23,27,32]\n",
    "t_range=5\n",
    "\n",
    "memory_positive=np.zeros([12], dtype='int')\n",
    "memory_negative=np.zeros([12], dtype='int')\n",
    "\n",
    "memory_pos_corr=np.zeros([12], dtype='float')\n",
    "memory_neg_corr=np.zeros([12], dtype='float')\n",
    "\n",
    "picks=np.zeros([2,12], dtype='int')\n",
    "msg=np.zeros([12],dtype='int')\n",
    "\n",
    "\n",
    "\n",
    "for byte in range (1,5):\n",
    "    #Loading the Power\n",
    "    \n",
    "    ### For new power traces###\n",
    "    #base_power_substract=np.load(\"calc_new_pow_byte%d_sub.npy\" %byte)\n",
    "    #base_power_plus=np.load(\"calc_new_pow_byte%d_plus.npy\" %byte)\n",
    "    \n",
    "    ### For prerecorded power traces ###\n",
    "    base_power_substract=np.load(\"calc_pow_byte%d_sub.npy\" %byte)\n",
    "    base_power_plus=np.load(\"calc_pow_byte%d_plus.npy\" %byte)\n",
    "\n",
    "\n",
    "    r=np.zeros([k_possible, 1], dtype='float')\n",
    "    base_power=base_power_substract\n",
    "\n",
    "    for arr in range (3):\n",
    "        t_init=t_init_list[arr]\n",
    "\n",
    "\n",
    "        for i in range (D-1):\n",
    "            r[i,0], _ = pearsonr(base_power[i,t_init:t_init+t_range], base_power[i+1,t_init:t_init+t_range])\n",
    "\n",
    "        corr=1-(np.abs(r));\n",
    "        guessed_key_array=np.argsort(np.abs(corr),axis=0)\n",
    "        found_key=guessed_key_array[-1,0]\n",
    "        max_corr=max(corr)\n",
    "        \n",
    "        memory_pos_corr[(byte-1)+arr*4]=max_corr\n",
    "        memory_positive[(byte-1)+arr*4]=found_key\n",
    "        picks[0,(byte-1)+arr*4] = (corr > max(corr)*0.20).sum()\n",
    "\n",
    "        #print('Byte:'+str(byte)+' Gussed key:' +str(found_key)+\" Corr: %f \" %(max_corr))\n",
    "\n",
    "        \n",
    "        ##### Uncomment the plotting if you want to see the plots \n",
    "        '''plt.figure(figsize=(18.5, 10.5), dpi=150)\n",
    "        axes = plt.gca()\n",
    "        plt.plot(corr)\n",
    "        plt.title('Byte:'+str(byte)+' Arr:'+str(arr)+' Positive Gussed key:' +str(found_key)+\" range: %d to %d\" %(t_init,t_init+t_range))\n",
    "        plt.xticks(np.arange(0, len(corr)+1, 10))'''\n",
    "        #######################################################\n",
    "\n",
    "\n",
    "    r=np.zeros([k_possible, 1], dtype='float')\n",
    "    base_power=base_power_plus   \n",
    "        \n",
    "    for arr in range (3):   \n",
    "        base_power=base_power_plus\n",
    "        t_init=t_init_list[arr]\n",
    "\n",
    "        for i in range (D-1):\n",
    "            r[i,0], _ = pearsonr(base_power[i,t_init:t_init+t_range], base_power[i+1,t_init:t_init+t_range])\n",
    "\n",
    "        corr=1-(np.abs(r));\n",
    "        guessed_key_array=np.argsort(np.abs(corr),axis=0)\n",
    "        found_key=255-guessed_key_array[-1,0]-1\n",
    "        max_corr=max(corr)\n",
    "        #print('Byte:'+str(byte)+' Gussed key:' +str(found_key)+\" Corr: %f \" %(max_corr))\n",
    "        memory_neg_corr[(byte-1)+arr*4]=max_corr\n",
    "        memory_negative[(byte-1)+arr*4]=found_key\n",
    "        picks[1,(byte-1)+arr*4] = (corr > max(corr)*0.20).sum()\n",
    "\n",
    "        ##### Uncomment the plotting if you want to see the plots \n",
    "        '''plt.figure(figsize=(18.5, 10.5), dpi=150)\n",
    "        axes = plt.gca()\n",
    "        plt.plot(corr)\n",
    "        plt.title('Byte:'+str(byte)+' Arr:'+str(arr)+' Negative Gussed key:' +str(found_key)+\" range: %d to %d\" %(t_init,t_init+t_range))\n",
    "        plt.xticks(np.arange(0, len(corr)+1, 10))'''\n",
    "        #######################################################\n",
    "        \n",
    "\n",
    "\n",
    "\n",
    "#final value finding\n",
    "\n",
    "for i in range (12):\n",
    "    \n",
    "    #print(\"pos: %d Neg: %d pp:%d pn:%d pco:%f pcn:%f\" %(memory_positive[i],memory_negative[i],picks[0,i],picks[1,i], memory_pos_corr[i], memory_neg_corr[i]))\n",
    "    if (memory_pos_corr[i] >= memory_neg_corr[i]):\n",
    "        msg[i]=memory_positive[i]\n",
    "    else:\n",
    "        msg[i]=memory_negative[i]\n",
    "\n",
    "#print(picks[0,:])   \n",
    "print(\"Positive Memory:\", memory_positive)\n",
    "#print(picks[1,:])   \n",
    "print(\"Negative Memory:\", memory_negative) \n",
    "print(\"Final Memory:\", msg)\n",
    "print(\"Please Run next step if final memory ins not verified\")"
   ]
  },
  {
   "cell_type": "markdown",
   "id": "6b992a0c",
   "metadata": {},
   "source": [
    "## Note That, we found the memory as \n",
    "msg=[103, 211, 58, 205, 180, 30, 156, 191, 231, 5, 33, 119]\n",
    "\n",
    "However, due to noise we might end up in mitchmatch in the founded value.\n",
    "But we are cnfident enough that all the 12 elements are among these two arrays.\n",
    "\n",
    "We need to verify the founded msg first. If it verify then its great.\n",
    "Otherwise, we need to perform one more step. Which is try to verify all combination among two arrays for related index.\n",
    "\n",
    "This will end up 2^12 = 4096. (2 arrays and 12 element) combination which is resonable.\n"
   ]
  },
  {
   "cell_type": "code",
   "execution_count": 13,
   "id": "0b725f3e",
   "metadata": {},
   "outputs": [
    {
     "name": "stdout",
     "output_type": "stream",
     "text": [
      "Found Memory from high correlation: [103, 211, 58, 205, 179, 30, 156, 191, 230, 5, 33, 119]\n",
      "CWbytearray(b'00')\n"
     ]
    }
   ],
   "source": [
    "#msg=[103, 211, 58, 205, 180, 30, 156, 191, 231, 5, 33, 119] #(Found Memory)\n",
    "#Verifying\n",
    "msg=list(msg)\n",
    "\n",
    "print(\"Found Memory from high correlation:\",msg)\n",
    "target.simpleserial_write('a',bytearray(msg))\n",
    "out_arr=target.simpleserial_read('r', 1)\n",
    "print(out_arr)"
   ]
  },
  {
   "cell_type": "code",
   "execution_count": 14,
   "id": "825ccfdf",
   "metadata": {},
   "outputs": [
    {
     "data": {
      "application/vnd.jupyter.widget-view+json": {
       "model_id": "bc41ff6454f94e81b7349bcb36e3d8e5",
       "version_major": 2,
       "version_minor": 0
      },
      "text/plain": [
       "  0%|          | 0/4096 [00:00<?, ?it/s]"
      ]
     },
     "metadata": {},
     "output_type": "display_data"
    },
    {
     "name": "stdout",
     "output_type": "stream",
     "text": [
      "[1]\n",
      "[103, 211, 58, 205, 180, 30, 156, 191, 231, 5, 33, 119]\n"
     ]
    }
   ],
   "source": [
    "mem_pos=memory_positive\n",
    "mem_neg=memory_negative\n",
    "#[103, 211, 58, 205, 180, 30, 156, 191, 231, 5, 33, 119] #Should be\n",
    "mem_possible=[]\n",
    "for i in trange (2**12):\n",
    "    bin_str=format(i, '012b')\n",
    "    #print(bin_str)\n",
    "    msg=[0]*12\n",
    "    for j in range (12):\n",
    "        if (bin_str[j]=='0'):\n",
    "            msg[j]=mem_pos[j]\n",
    "        else:\n",
    "            msg[j]=mem_neg[j]\n",
    "    #print(msg)\n",
    "    mem_possible.append(msg)\n",
    "    \n",
    "    #print(msg)\n",
    "    target.simpleserial_write('a',bytearray(msg))\n",
    "    out_arr=target.simpleserial_read('r', 1)\n",
    "    \n",
    "    if (list(out_arr) != [0]):\n",
    "        print(list(out_arr))\n",
    "        print(list(msg))\n",
    "        break\n",
    "        \n",
    "#print(mem_possible)"
   ]
  },
  {
   "cell_type": "markdown",
   "id": "7d06b6fe",
   "metadata": {},
   "source": [
    "# Now we found the real memory.\n",
    "Lets verify again."
   ]
  },
  {
   "cell_type": "code",
   "execution_count": 15,
   "id": "2dde85f4",
   "metadata": {},
   "outputs": [
    {
     "name": "stdout",
     "output_type": "stream",
     "text": [
      "Found actual memory: [103, 211, 58, 205, 180, 30, 156, 191, 231, 5, 33, 119]\n",
      "Goal: CWbytearray(b'01')\n"
     ]
    }
   ],
   "source": [
    "#[103, 211, 58, 205, 180, 30, 156, 191, 231, 5, 33, 119] #Should be \n",
    "print(\"Found actual memory:\",msg)\n",
    "target.simpleserial_write('a',bytearray(msg))\n",
    "out_arr=target.simpleserial_read('r', 1)\n",
    "print(\"Goal:\",out_arr)"
   ]
  },
  {
   "cell_type": "code",
   "execution_count": null,
   "id": "b9d7a381",
   "metadata": {},
   "outputs": [],
   "source": []
  }
 ],
 "metadata": {
  "kernelspec": {
   "display_name": "Python 3",
   "language": "python",
   "name": "python3"
  },
  "language_info": {
   "codemirror_mode": {
    "name": "ipython",
    "version": 3
   },
   "file_extension": ".py",
   "mimetype": "text/x-python",
   "name": "python",
   "nbconvert_exporter": "python",
   "pygments_lexer": "ipython3",
   "version": "3.7.7"
  }
 },
 "nbformat": 4,
 "nbformat_minor": 5
}

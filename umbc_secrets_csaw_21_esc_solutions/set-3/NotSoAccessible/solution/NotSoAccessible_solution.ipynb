{
 "cells": [
  {
   "cell_type": "markdown",
   "id": "03cb2857",
   "metadata": {},
   "source": [
    "### Defining the board name."
   ]
  },
  {
   "cell_type": "code",
   "execution_count": 6,
   "id": "b89fe676",
   "metadata": {},
   "outputs": [],
   "source": [
    "SCOPETYPE = 'CWNANO'\n",
    "PLATFORM = 'CWNANO'\n",
    "CRYPTO_TARGET = 'NONE'"
   ]
  },
  {
   "cell_type": "markdown",
   "id": "0a923586",
   "metadata": {},
   "source": [
    "### Configuration the CWNANO board."
   ]
  },
  {
   "cell_type": "code",
   "execution_count": 8,
   "id": "29190410",
   "metadata": {},
   "outputs": [
    {
     "name": "stdout",
     "output_type": "stream",
     "text": [
      "INFO: Found ChipWhisperer😍\n"
     ]
    }
   ],
   "source": [
    "%run \"../../../Helper_Scripts/Setup_Generic.ipynb\""
   ]
  },
  {
   "cell_type": "markdown",
   "id": "ae91f6c8",
   "metadata": {},
   "source": [
    "### Programming board with the provided HEX file."
   ]
  },
  {
   "cell_type": "code",
   "execution_count": 10,
   "id": "c7456989",
   "metadata": {},
   "outputs": [
    {
     "name": "stdout",
     "output_type": "stream",
     "text": [
      "Detected known STMF32: STM32F04xxx\n",
      "Extended erase (0x44), this can take ten seconds or more\n",
      "Attempting to program 4999 bytes at 0x8000000\n",
      "STM32F Programming flash...\n",
      "STM32F Reading flash...\n",
      "Verified flash OK, 4999 bytes\n"
     ]
    }
   ],
   "source": [
    "fw_path = \"../NotSoAccessible-CWNANO.hex\"\n",
    "cw.program_target(scope, cw.programmers.STM32FProgrammer, fw_path)"
   ]
  },
  {
   "cell_type": "markdown",
   "id": "ba557faa",
   "metadata": {},
   "source": [
    "### With brute forcing we could find the key of last round"
   ]
  },
  {
   "cell_type": "code",
   "execution_count": 12,
   "id": "3e73114e",
   "metadata": {},
   "outputs": [
    {
     "data": {
      "application/vnd.jupyter.widget-view+json": {
       "model_id": "540c81c51efb48faae3015cac97c2516",
       "version_major": 2,
       "version_minor": 0
      },
      "text/plain": [
       "  0%|          | 0/236 [00:00<?, ?it/s]"
      ]
     },
     "metadata": {},
     "output_type": "display_data"
    },
    {
     "data": {
      "application/vnd.jupyter.widget-view+json": {
       "model_id": "4749dc4e9d584c1dac4f1fa4a577dfe1",
       "version_major": 2,
       "version_minor": 0
      },
      "text/plain": [
       "  0%|          | 0/256 [00:00<?, ?it/s]"
      ]
     },
     "metadata": {},
     "output_type": "display_data"
    },
    {
     "name": "stdout",
     "output_type": "stream",
     "text": [
      "Round 32 Key: 0x8d14\n"
     ]
    }
   ],
   "source": [
    "broken = False\n",
    "\n",
    "key_list=[0]*2\n",
    "\n",
    "from tqdm.notebook import tqdm, trange\n",
    "for i in trange(20,256):\n",
    "    if(broken == True):\n",
    "        break\n",
    "    for j in trange(256):\n",
    "        msg = bytearray([i,j])\n",
    "        target.simpleserial_write('a',msg)\n",
    "        goal=target.simpleserial_read('r', 1)\n",
    "        if(goal == bytearray([1])):\n",
    "            broken = True\n",
    "            Key_MSB = j\n",
    "            Key_LSB = i\n",
    "            key_list[0]=i\n",
    "            key_list[1]=j\n",
    "            break\n",
    "            \n",
    "print(\"Round 32 Key:\", hex(key_list[0]+256*key_list[1]))"
   ]
  },
  {
   "cell_type": "markdown",
   "id": "83b7eff2",
   "metadata": {},
   "source": [
    "### This is the Answer:\n",
    "### Key  of the last Round: 0x8d14\n",
    "### The master Key: 0x1918111009080100"
   ]
  }
 ],
 "metadata": {
  "kernelspec": {
   "display_name": "Python 3",
   "language": "python",
   "name": "python3"
  },
  "language_info": {
   "codemirror_mode": {
    "name": "ipython",
    "version": 3
   },
   "file_extension": ".py",
   "mimetype": "text/x-python",
   "name": "python",
   "nbconvert_exporter": "python",
   "pygments_lexer": "ipython3",
   "version": "3.7.7"
  }
 },
 "nbformat": 4,
 "nbformat_minor": 5
}

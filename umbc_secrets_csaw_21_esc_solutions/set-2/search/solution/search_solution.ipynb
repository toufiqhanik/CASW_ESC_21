{
 "cells": [
  {
   "cell_type": "markdown",
   "id": "6e41f97d",
   "metadata": {},
   "source": [
    "### Defining the board name."
   ]
  },
  {
   "cell_type": "code",
   "execution_count": 1,
   "id": "0af720e7",
   "metadata": {},
   "outputs": [],
   "source": [
    "SCOPETYPE = 'CWNANO'\n",
    "PLATFORM = 'CWNANO'\n",
    "CRYPTO_TARGET = 'NONE'"
   ]
  },
  {
   "cell_type": "markdown",
   "id": "8050c89d",
   "metadata": {},
   "source": [
    "### Configuration the CWNANO board and its ADC."
   ]
  },
  {
   "cell_type": "code",
   "execution_count": 2,
   "id": "7cc7af51",
   "metadata": {},
   "outputs": [
    {
     "name": "stdout",
     "output_type": "stream",
     "text": [
      "INFO: Found ChipWhisperer😍\n"
     ]
    }
   ],
   "source": [
    "%run \"../../../Helper_Scripts/Setup_Generic.ipynb\"\n",
    "scope.adc.samples = 1000\n",
    "scope._cwusb.usbtx.rep = 0x81\n",
    "scope._cwusb.usbtx.wep = 0x02"
   ]
  },
  {
   "cell_type": "markdown",
   "id": "58c11d88",
   "metadata": {},
   "source": [
    "### Programming board with the provided HEX file."
   ]
  },
  {
   "cell_type": "code",
   "execution_count": 3,
   "id": "7adb13dc",
   "metadata": {},
   "outputs": [
    {
     "name": "stdout",
     "output_type": "stream",
     "text": [
      "Detected known STMF32: STM32F04xxx\n",
      "Extended erase (0x44), this can take ten seconds or more\n",
      "Attempting to program 13547 bytes at 0x8000000\n",
      "STM32F Programming flash...\n",
      "STM32F Reading flash...\n",
      "Verified flash OK, 13547 bytes\n"
     ]
    }
   ],
   "source": [
    "fw_path = \"../search-CWNANO.hex\"\n",
    "cw.program_target(scope, cw.programmers.STM32FProgrammer, fw_path)"
   ]
  },
  {
   "cell_type": "markdown",
   "id": "a828287d",
   "metadata": {},
   "source": [
    "### Here we call search function for all nuber between 0-255. Also, we save the extracted power reaces in two format (.txt, .npy) as it is required by organizer."
   ]
  },
  {
   "cell_type": "code",
   "execution_count": 4,
   "id": "ba81767c",
   "metadata": {},
   "outputs": [],
   "source": [
    "import numpy as np\n",
    "import time\n",
    "from scipy.stats import pearsonr\n",
    "\n",
    "power=np.zeros((256,1000), dtype=float)\n",
    "for i in range(0,256):\n",
    "    msg = bytearray([i]*1)\n",
    "    scope.arm()\n",
    "    target.simpleserial_write('s',msg)\n",
    "    scope.capture()\n",
    "    power[i][0:1000]=scope.get_last_trace()[0:1000]\n",
    "\n",
    "np.save('search_power_file', power)\n",
    "file = open(\"search_power_file.txt\",\"w\")\n",
    "for i in range(256):\n",
    "    for j in range(1000):\n",
    "        file.write(str(power[i][j])+' ')\n",
    "    file.write(\"\\n\")        \n",
    "file.close()             "
   ]
  },
  {
   "cell_type": "markdown",
   "id": "1eee6faf",
   "metadata": {},
   "source": [
    "### Here you can load my power traces that I already stored. Please do not run this code if you want to extract power traces. My_search_power_file.npy and My_search_power_file.txt is my power traces when I ran code."
   ]
  },
  {
   "cell_type": "code",
   "execution_count": 1,
   "id": "9b423885",
   "metadata": {},
   "outputs": [],
   "source": [
    "import numpy as np\n",
    "import time\n",
    "from scipy.stats import pearsonr\n",
    "power=np.zeros((256,1000), dtype=float)\n",
    "power = np.load('My_search_power_file.npy')\n",
    "\n",
    "#f=open(\"My_search_power_file.txt\",\"r\")\n",
    "#val = f.readlines()\n",
    "#for i in range(256):\n",
    "#    power[i] = val[i].strip().split()"
   ]
  },
  {
   "cell_type": "code",
   "execution_count": 6,
   "id": "b391117d",
   "metadata": {},
   "outputs": [],
   "source": [
    "#%run \"../../../Helper_Scripts/plot.ipynb\"\n",
    "#plot = real_time_plot(plot_len=500)"
   ]
  },
  {
   "cell_type": "markdown",
   "id": "913f10aa",
   "metadata": {},
   "source": [
    "### As we know in the search algorithim, 6 numbers between 0-255 are selected randomly and moved to the end of array. When we call the search function with these 6 numbers, the run time is longer than the other numbers that are not moved. \n",
    "### Based on this point we can analyze the power traces for each number, when the power traces has more samples, it means that i has longer time process. Therefore we can find which number are moved from array to the end of array.\n",
    "### Here we analyze the time process of all numbers with their power traces, and then sort it from lowest time to highest time process. The last 6 numbers are the answer of this challenge. \n",
    "\n",
    "![search.png](search.png)\n",
    "\n",
    "### For example, we show the poser traces for 6 cases when we called search function. Number: 91, 118, 207, 16, 123, 200. As you can see for the figures a, b, c the time process is at around 310, while for the second row the time process is lower than 310. Please note that, we used power traces as time process, as the only realtime component that we have access is the ADC of board. \n",
    "### Numbers 91, 118, 207 are our answers as they have longest time process. We analized all power traces for all number to find the first 6 numbers that have longest time to process.\n"
   ]
  },
  {
   "cell_type": "code",
   "execution_count": 7,
   "id": "f4565976",
   "metadata": {},
   "outputs": [],
   "source": [
    "time_list=[0]*256\n",
    "for i in range(0,256):\n",
    "    #plot.send(power[i][0:500]) \n",
    "    threshold=0#sum(signal[0:10])/10\n",
    "    filtered_signal=[0]*500\n",
    "    for j in range (0,500):\n",
    "        if  (power[i][j] > threshold):\n",
    "            filtered_signal[j]=1\n",
    "        else:\n",
    "            filtered_signal[j]=0  \n",
    "    #print(filtered_signal[0:500])\n",
    "    filtered_signal_str=str(filtered_signal).split('0, 0, 0, 0, 0, 0, 0')[0]\n",
    "    ex_time=len(filtered_signal_str[1:])/3\n",
    "    time_list[i] = ex_time\n",
    "\n",
    "sort_index = np.argsort(time_list)\n",
    "#print(time_list)"
   ]
  },
  {
   "cell_type": "markdown",
   "id": "5670be25",
   "metadata": {},
   "source": [
    "### After finding the 6 numbers, we need to check it with verify function. Here we call verify function."
   ]
  },
  {
   "cell_type": "code",
   "execution_count": 8,
   "id": "33c20816",
   "metadata": {},
   "outputs": [
    {
     "name": "stdout",
     "output_type": "stream",
     "text": [
      "The 6 moved numbers: [207, 232, 152, 91, 59, 118]\n",
      "Response of Verify Function: [1]\n"
     ]
    }
   ],
   "source": [
    "msg = bytearray([0]*6)\n",
    "msg[0] = sort_index[250]\n",
    "msg[1] = sort_index[251]\n",
    "msg[2] = sort_index[252]\n",
    "msg[3] = sort_index[253]\n",
    "msg[4] = sort_index[254]\n",
    "msg[5] = sort_index[255]\n",
    "target.simpleserial_write('a',bytearray(msg))\n",
    "done=target.simpleserial_read('r', 1)\n",
    "print(\"The 6 moved numbers: {}\".format(list(msg)))\n",
    "print(\"Response of Verify Function: {}\".format(list(done)))"
   ]
  },
  {
   "cell_type": "markdown",
   "id": "6d069aba",
   "metadata": {},
   "source": [
    "### This is the Answer:\n",
    "### The 6 moved numbers : \n",
    "### [207, 232, 152, 91, 59, 118]"
   ]
  }
 ],
 "metadata": {
  "kernelspec": {
   "display_name": "Python 3",
   "language": "python",
   "name": "python3"
  },
  "language_info": {
   "codemirror_mode": {
    "name": "ipython",
    "version": 3
   },
   "file_extension": ".py",
   "mimetype": "text/x-python",
   "name": "python",
   "nbconvert_exporter": "python",
   "pygments_lexer": "ipython3",
   "version": "3.7.7"
  }
 },
 "nbformat": 4,
 "nbformat_minor": 5
}

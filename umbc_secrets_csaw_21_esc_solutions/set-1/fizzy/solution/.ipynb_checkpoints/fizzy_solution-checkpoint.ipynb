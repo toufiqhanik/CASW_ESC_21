{
 "cells": [
  {
   "cell_type": "markdown",
   "id": "fbc4ca60",
   "metadata": {},
   "source": [
    "### Defining the board name."
   ]
  },
  {
   "cell_type": "code",
   "execution_count": 1,
   "id": "e242fe49",
   "metadata": {},
   "outputs": [],
   "source": [
    "SCOPETYPE = 'CWNANO'\n",
    "PLATFORM = 'CWNANO'\n",
    "CRYPTO_TARGET = 'NONE'"
   ]
  },
  {
   "cell_type": "markdown",
   "id": "83e84982",
   "metadata": {},
   "source": [
    "### Configuration the CWNANO board and its ADC."
   ]
  },
  {
   "cell_type": "code",
   "execution_count": 2,
   "id": "551e166a",
   "metadata": {},
   "outputs": [
    {
     "name": "stdout",
     "output_type": "stream",
     "text": [
      "INFO: Found ChipWhisperer😍\n"
     ]
    }
   ],
   "source": [
    "%run \"../../../Helper_Scripts/Setup_Generic.ipynb\"\n",
    "scope.adc.samples = 50000\n",
    "scope._cwusb.usbtx.rep = 0x81\n",
    "scope._cwusb.usbtx.wep = 0x02"
   ]
  },
  {
   "cell_type": "markdown",
   "id": "cbe16fb2",
   "metadata": {},
   "source": [
    "### Programming board with the provided HEX file."
   ]
  },
  {
   "cell_type": "code",
   "execution_count": 3,
   "id": "486412da",
   "metadata": {},
   "outputs": [
    {
     "name": "stdout",
     "output_type": "stream",
     "text": [
      "Detected known STMF32: STM32F04xxx\n",
      "Extended erase (0x44), this can take ten seconds or more\n",
      "Attempting to program 5463 bytes at 0x8000000\n",
      "STM32F Programming flash...\n",
      "STM32F Reading flash...\n",
      "Verified flash OK, 5463 bytes\n"
     ]
    }
   ],
   "source": [
    "fw_path = \"../fizzy-CWNANO.hex\"\n",
    "cw.program_target(scope, cw.programmers.STM32FProgrammer, fw_path)"
   ]
  },
  {
   "cell_type": "markdown",
   "id": "52de5ccb",
   "metadata": {},
   "source": [
    "### In this section we call the SORT function and also record the power when the sorting operation is happenning. Also, we store the sorted version of the array in \"sorted_array\" variable. Now we have power traces and also we know what numbers are inside the array."
   ]
  },
  {
   "cell_type": "code",
   "execution_count": 10,
   "id": "5e23b400",
   "metadata": {},
   "outputs": [],
   "source": [
    "import numpy as np\n",
    "import time\n",
    "import matplotlib.pyplot as plt\n",
    "\n",
    "power=np.zeros(50000, dtype=float)\n",
    "msg = bytearray([])\n",
    "\n",
    "scope.arm()\n",
    "target.simpleserial_write('s',msg)\n",
    "sorted_array=target.simpleserial_read('r', 27)\n",
    "scope.capture()\n",
    "power=scope.get_last_trace()[0:50000]"
   ]
  },
  {
   "cell_type": "markdown",
   "id": "0b4a3f6e",
   "metadata": {},
   "source": [
    "### Here we save the extracted power reaces in two format (.txt, .npy) as it is required by organizer."
   ]
  },
  {
   "cell_type": "code",
   "execution_count": 11,
   "id": "b71d85fc",
   "metadata": {},
   "outputs": [],
   "source": [
    "np.save('fizzy_power_file', power)\n",
    "file = open(\"fizzy_power_file.txt\",\"w\")\n",
    "for i in range(50000):\n",
    "    file.write(str(power[i]))\n",
    "    file.write(\"\\n\")\n",
    "file.close()"
   ]
  },
  {
   "cell_type": "markdown",
   "id": "8c59b538",
   "metadata": {},
   "source": [
    "### Here you can load my power traces that I already stored. Please do not run this code if you want to extract power traces. My_fizzy_power_file.npy and My_fizzy_power_file.txt is my power traces when I ran code."
   ]
  },
  {
   "cell_type": "code",
   "execution_count": 2,
   "id": "c5ed912b",
   "metadata": {},
   "outputs": [],
   "source": [
    "import numpy as np\n",
    "import time\n",
    "import matplotlib.pyplot as plt\n",
    "\n",
    "power=np.zeros(50000, dtype=float)\n",
    "power = np.load('My_fizzy_power_file.npy')\n",
    "\n",
    "#f=open(\"My_fizzy_power_file.txt\",\"r\")\n",
    "#val = f.readlines()\n",
    "#for i in range(50000):\n",
    "#    power[i] = val[i]"
   ]
  },
  {
   "cell_type": "markdown",
   "id": "d2df813f",
   "metadata": {},
   "source": [
    "### As we know, bubble sorting algorithim is used for sorting the array. We observed that there is specific pattern in power when the swapping is done. By corrolation this pattern over the entire power traces, we can find when swapping is happenning or not. \n",
    "### Function 'my_corr' is our corrolation function and we defined \"W\" as swapping pattern (we already extracted this pattern from pwer traces).\n",
    "\n",
    "![fizzy.png](fizzy.png)\n",
    "\n",
    "### IN the picture we depicted a frame portion of power traces when sort function is processing. In the figure you can see the spike when swapping is happening. Based on the .c code when the swapping is done a multiplication operand is reapeted for multiple times.  Based on this fact we generate a window signal (oranges bars) to corrolate with power traces. Then we can find when the swapping is dine.\n"
   ]
  },
  {
   "cell_type": "code",
   "execution_count": 16,
   "id": "f07468f4",
   "metadata": {},
   "outputs": [],
   "source": [
    "\n",
    "# Defining corrolation function between two signal\n",
    "def my_corr(in1,in2):\n",
    "    my_sum = 0\n",
    "    for i in range(len(in1)):\n",
    "        my_sum = my_sum + in1[i]*in2[i]\n",
    "    return my_sum\n",
    "\n",
    "\n",
    "# Defining W signal as it has the similar trend of power traces when swapping is happening\n",
    "w = []\n",
    "w.append(1)\n",
    "for i in range(23):\n",
    "    w.append(0)\n",
    "    \n",
    "w.append(1)\n",
    "for i in range(21):\n",
    "    w.append(0)\n",
    "    \n",
    "for i in range(9):\n",
    "    w.append(1)\n",
    "    for j in range(20):\n",
    "        w.append(0)\n",
    "w.append(1)\n",
    "\n",
    "\n",
    "\n",
    "# Corrolation between W and power traces is calculating here\n",
    "result = [0]*49764\n",
    "for i in range(49764):\n",
    "    result[i] = my_corr(power[i:i+236],w)\n",
    "\n",
    "# Wherewhere we have maximum in the corrolation one swapping is happening. Therefore we filtered all corrolation based on 0.9 Maximum.\n",
    "# Then index variable is location of swapping\n",
    "index = np.where(result > 0.95*max(result))\n",
    "\n",
    "# By processing the disstance(diff) between swapping index, we can uncover when the swapping happenning or not happening.\n",
    "my_dff = np.diff(index[0]) \n",
    "\n",
    "# Here first detect when the first swapping is happening\n",
    "# As our array has 27 elements, to sort it with bubble sort we need to have a 351 comparisions. Among this amont of coparison,\n",
    "# There are some swapping and some not-swapping. The folowing code can uncover this.\n",
    "first = int((index[0][0] - 41.5)/17)\n",
    "swap = []\n",
    "new_swap = []\n",
    "if(first == 0):\n",
    "    swap.append(1)\n",
    "    id = 0\n",
    "else:\n",
    "    for i in range(first):\n",
    "        swap.append(0)\n",
    "    swap.append(1)\n",
    "    id = first\n",
    "    \n",
    "\n",
    "for i in range(len(my_dff)):\n",
    "    if(my_dff[i]==255):\n",
    "        id = id +1;\n",
    "        swap.append(1)\n",
    "    else:\n",
    "        skip = int((my_dff[i]-255)/17);\n",
    "        for j in range(skip):\n",
    "            id = id +1\n",
    "            swap.append(0)\n",
    "        id = id +1\n",
    "        swap.append(1)\n",
    "\n",
    "it = [26,25,24,23,22,21,20,19,18,17,16,15,14,13,12,11,10,9,8,7,6,5,4,3,2,1]\n",
    "iteration = []\n",
    "for i in range(len(it)):\n",
    "    iteration.append(sum(it[0:i+1])+i)\n",
    "\n",
    "\n",
    "for i in range(len(swap)):\n",
    "    flag = 0;\n",
    "    for j in range(len(iteration)):\n",
    "        if(iteration[j] == i):\n",
    "            flag = 1\n",
    "    if(flag == 0):\n",
    "        new_swap.append(swap[i]);\n",
    "\n",
    "for i in range(len(new_swap)+1,352):\n",
    "    new_swap.append(0)\n",
    "\n",
    "# When we understood about the swapping, we implement the bubble sort algorithim in the reverse order to find the primary array\n",
    "index = 0\n",
    "for i in range(0,26):\n",
    "    for j in range(0,i+1):\n",
    "        if(new_swap[350-index] == 1):\n",
    "            sorted_array[i-j] , sorted_array[i+1-j] = sorted_array[i+1-j] , sorted_array[i-j]\n",
    "        index = index + 1"
   ]
  },
  {
   "cell_type": "markdown",
   "id": "06c8e566",
   "metadata": {},
   "source": [
    "### Function reboot_flush is used for rebooting micro after calling the sort function.\n",
    "### As we cannot call  both verify and sort function, we need to reboot micro to call verify function."
   ]
  },
  {
   "cell_type": "code",
   "execution_count": 17,
   "id": "26b83018",
   "metadata": {},
   "outputs": [],
   "source": [
    "def reboot_flush():\n",
    "    scope.io.nrst = False\n",
    "    time.sleep(0.05)\n",
    "    scope.io.nrst = \"high_z\"\n",
    "    time.sleep(0.05)\n",
    "    #Flush garbage too\n",
    "    target.flush()"
   ]
  },
  {
   "cell_type": "markdown",
   "id": "f845fb7f",
   "metadata": {},
   "source": [
    "### After repositioning the array, we need to check it with verify function. Here we call verify function."
   ]
  },
  {
   "cell_type": "code",
   "execution_count": 18,
   "id": "64fe3db5",
   "metadata": {},
   "outputs": [
    {
     "name": "stdout",
     "output_type": "stream",
     "text": [
      "Array before sorting(in decimal): [84, 73, 77, 73, 78, 71, 83, 73, 68, 69, 67, 72, 65, 78, 78, 69, 76, 83, 65, 82, 69, 83, 79, 67, 79, 79, 76]\n",
      "Response of Verify Function: [1]\n"
     ]
    }
   ],
   "source": [
    "reboot_flush()\n",
    "msg = [0]*27\n",
    "for i in range(27):\n",
    "    msg[i] = sorted_array[i]\n",
    "target.simpleserial_write('a',bytearray(msg))\n",
    "done=target.simpleserial_read('r', 1)\n",
    "print(\"Array before sorting(in decimal): {}\".format(list(sorted_array)))\n",
    "print(\"Response of Verify Function: {}\".format(list(done)))"
   ]
  },
  {
   "cell_type": "markdown",
   "id": "97d873ba",
   "metadata": {},
   "source": [
    "### This is the Answer:\n",
    "### Array before sorting : \n",
    "### [84, 73, 77, 73, 78, 71, 83, 73, 68, 69, 67, 72, 65, 78, 78, 69, 76, 83, 65, 82, 69, 83, 79, 67, 79, 79, 76]"
   ]
  }
 ],
 "metadata": {
  "kernelspec": {
   "display_name": "Python 3",
   "language": "python",
   "name": "python3"
  },
  "language_info": {
   "codemirror_mode": {
    "name": "ipython",
    "version": 3
   },
   "file_extension": ".py",
   "mimetype": "text/x-python",
   "name": "python",
   "nbconvert_exporter": "python",
   "pygments_lexer": "ipython3",
   "version": "3.7.7"
  }
 },
 "nbformat": 4,
 "nbformat_minor": 5
}

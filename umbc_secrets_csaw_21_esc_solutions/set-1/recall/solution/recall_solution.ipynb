{
 "cells": [
  {
   "cell_type": "markdown",
   "id": "c26b1033",
   "metadata": {},
   "source": [
    "## Generic setup for the CW Nano"
   ]
  },
  {
   "cell_type": "code",
   "execution_count": 2,
   "id": "1070b978",
   "metadata": {},
   "outputs": [
    {
     "name": "stdout",
     "output_type": "stream",
     "text": [
      "INFO: Found ChipWhisperer😍\n"
     ]
    }
   ],
   "source": [
    "SCOPETYPE = 'CWNANO'\n",
    "PLATFORM = 'CWNANO'\n",
    "%run \"../../../Helper_Scripts/Setup_Generic.ipynb\"\n",
    "scope._cwusb.usbtx.rep = 0x81\n",
    "scope._cwusb.usbtx.wep = 0x02"
   ]
  },
  {
   "cell_type": "markdown",
   "id": "f95bded3",
   "metadata": {},
   "source": [
    "## Calling the path for the hex file and programming the board"
   ]
  },
  {
   "cell_type": "code",
   "execution_count": 3,
   "id": "37756560",
   "metadata": {},
   "outputs": [
    {
     "name": "stdout",
     "output_type": "stream",
     "text": [
      "Detected known STMF32: STM32F04xxx\n",
      "Extended erase (0x44), this can take ten seconds or more\n",
      "Attempting to program 4983 bytes at 0x8000000\n",
      "STM32F Programming flash...\n",
      "STM32F Reading flash...\n",
      "Verified flash OK, 4983 bytes\n"
     ]
    }
   ],
   "source": [
    "fw_path = \"../recall-CWNANO.hex\"\n",
    "cw.program_target(scope, cw.programmers.STM32FProgrammer, fw_path)"
   ]
  },
  {
   "cell_type": "markdown",
   "id": "74c30576",
   "metadata": {},
   "source": [
    "######################################################\n",
    "\n",
    "## Attack strategies\n",
    "To perform the attack we tried to find the vulnerability in the C code first. We found that for the verify function it tries to match with the memory one at a time. As soon as we match one it goes for the  next index. As the code has the \"break\" in line 18, it breaks running the code if not matched but it keep on runing if it matches. This tells us that as soon as the memory is matched it has longer execution time. \n",
    "\n",
    "As the memory is 16 byte and each byte has the possibility of 0 to 255. Therefore we made an arry of [0]*16. Then in a loop we change the first index from 0 to 255 to find the first index memory. If the input matches then it goes for next iteration. \n",
    "\n",
    "We used the correlation function to match with the power traces with each other to find when more time is needed. As soon as we see that the correlation dropped that means that it takes more time and the verify function goes to the next inderx to verify. We can take the index when the correlation drops. That will be the memory element. Then we update the memory array and for the next memory index to find that.\n",
    "\n",
    "We can totally have 256*16 combination to find the correct memory element. \n",
    "However our code is written in efficient way to find the memory faster. As soon as it get a memory element it goes to find the next one.\n"
   ]
  },
  {
   "cell_type": "code",
   "execution_count": 4,
   "id": "f3d16504",
   "metadata": {},
   "outputs": [
    {
     "name": "stdout",
     "output_type": "stream",
     "text": [
      "Memory: CWbytearray(b'70 00 00 00 00 00 00 00 00 00 00 00 00 00 00 00')\n",
      "Memory: CWbytearray(b'70 30 00 00 00 00 00 00 00 00 00 00 00 00 00 00')\n",
      "Memory: CWbytearray(b'70 30 77 00 00 00 00 00 00 00 00 00 00 00 00 00')\n",
      "Memory: CWbytearray(b'70 30 77 33 00 00 00 00 00 00 00 00 00 00 00 00')\n",
      "Memory: CWbytearray(b'70 30 77 33 52 00 00 00 00 00 00 00 00 00 00 00')\n",
      "Memory: CWbytearray(b'70 30 77 33 52 31 00 00 00 00 00 00 00 00 00 00')\n",
      "Memory: CWbytearray(b'70 30 77 33 52 31 73 00 00 00 00 00 00 00 00 00')\n",
      "Memory: CWbytearray(b'70 30 77 33 52 31 73 6b 00 00 00 00 00 00 00 00')\n",
      "Memory: CWbytearray(b'70 30 77 33 52 31 73 6b 6e 00 00 00 00 00 00 00')\n",
      "Memory: CWbytearray(b'70 30 77 33 52 31 73 6b 6e 30 00 00 00 00 00 00')\n",
      "Memory: CWbytearray(b'70 30 77 33 52 31 73 6b 6e 30 77 00 00 00 00 00')\n",
      "Memory: CWbytearray(b'70 30 77 33 52 31 73 6b 6e 30 77 6c 00 00 00 00')\n",
      "Memory: CWbytearray(b'70 30 77 33 52 31 73 6b 6e 30 77 6c 33 00 00 00')\n",
      "Memory: CWbytearray(b'70 30 77 33 52 31 73 6b 6e 30 77 6c 33 64 00 00')\n",
      "Memory: CWbytearray(b'70 30 77 33 52 31 73 6b 6e 30 77 6c 33 64 67 00')\n",
      "Memory: CWbytearray(b'70 30 77 33 52 31 73 6b 6e 30 77 6c 33 64 67 33')\n"
     ]
    }
   ],
   "source": [
    "import numpy as np\n",
    "import time\n",
    "import matplotlib.pyplot as plt\n",
    "from scipy.stats import pearsonr\n",
    "\n",
    "\n",
    "msg = bytearray([0]*16)\n",
    "for k in range (0, 16):\n",
    "    c_trace=np.zeros([3,300], dtype=float)\n",
    "    \n",
    "    #0\n",
    "    msg[k]=0\n",
    "    scope.arm()\n",
    "    target.simpleserial_write('a',msg)\n",
    "    scope.capture()\n",
    "    c_trace[0,:]=scope.get_last_trace()[0:300]\n",
    "    \n",
    "    #1\n",
    "    msg[k]=1\n",
    "    scope.arm()\n",
    "    target.simpleserial_write('a',msg)\n",
    "    scope.capture()\n",
    "    c_trace[1,:]=scope.get_last_trace()[0:300]\n",
    "    \n",
    "    #2\n",
    "    msg[k]=2\n",
    "    scope.arm()\n",
    "    target.simpleserial_write('a',msg)\n",
    "    scope.capture()\n",
    "    c_trace[2,:]=scope.get_last_trace()[0:300]\n",
    "    \n",
    "    corr_0_1, _ = pearsonr(c_trace[0,:], c_trace[1,:])\n",
    "    corr_0_2, _ = pearsonr(c_trace[0,:], c_trace[2,:])\n",
    "    corr_1_2, _ = pearsonr(c_trace[1,:], c_trace[2,:])\n",
    "    \n",
    "    threshold=0.8 # a threshold is is used to find the correlation drop.\n",
    "    \n",
    "    if(corr_0_1 < threshold* corr_0_2):\n",
    "        msg[k]=1\n",
    "    elif(corr_0_1 < threshold*corr_1_2 ):\n",
    "        msg[k]=0\n",
    "    else:\n",
    "        for i in range (2,256):\n",
    "            msg[k] = i\n",
    "\n",
    "            \n",
    "            scope.arm()\n",
    "            target.simpleserial_write('a',msg)\n",
    "            scope.capture()\n",
    "            signal=scope.get_last_trace()\n",
    "            \n",
    "            corr_0_i, _ = pearsonr(c_trace[0,:], signal[0:300])\n",
    "            \n",
    "            if(corr_0_i < threshold* corr_0_1):\n",
    "                ##uncomment if you want to plot#\n",
    "                '''plt.figure(figsize=(18.5, 6.5), dpi=150)\n",
    "                axes = plt.gca()\n",
    "                plt.plot(c_trace[0,:].T, linewidth=2, label =\"Memory Not Matched\" )\n",
    "                plt.plot(signal[0:300].T, linewidth=2, label =\" Memory Matched\" )\n",
    "                leg = axes.legend(loc =\"upper left\")\n",
    "                plt.title(\"Index:%d, Found Memory: %s\" %(k, hex(msg[k])))'''\n",
    "                \n",
    "                break\n",
    "    \n",
    "    print(\"Memory:\", msg )          \n",
    "    "
   ]
  },
  {
   "cell_type": "markdown",
   "id": "be5843ee",
   "metadata": {},
   "source": [
    "## Verify\n",
    "\n",
    "Here we are verifying the found memory and Goal shoul be '01'.\n",
    "Note that, we found the memory as:\n",
    "\n",
    "CWbytearray(b'70 30 77 33 52 31 73 6b 6e 30 77 6c 33 64 67 33')\n",
    "\n",
    "bytearray([112,48,119,51,82,49,115,107,110,48,119,108,51,100,103,51])"
   ]
  },
  {
   "cell_type": "code",
   "execution_count": 5,
   "id": "58bca5bc",
   "metadata": {},
   "outputs": [
    {
     "name": "stdout",
     "output_type": "stream",
     "text": [
      "Found Memory: CWbytearray(b'70 30 77 33 52 31 73 6b 6e 30 77 6c 33 64 67 33')\n",
      "Goal: CWbytearray(b'01')\n"
     ]
    }
   ],
   "source": [
    "#CWbytearray(b'70 30 77 33 52 31 73 6b 6e 30 77 6c 33 64 67 33')\n",
    "#msg = bytearray([112,48,119,51,82,49,115,107,110,48,119,108,51,100,103,51])\n",
    "print(\"Found Memory:\",msg)\n",
    "target.simpleserial_write('a',msg)\n",
    "Goal=target.simpleserial_read('r', 1)\n",
    "print(\"Goal:\",Goal)"
   ]
  },
  {
   "cell_type": "code",
   "execution_count": null,
   "id": "3e45037f",
   "metadata": {},
   "outputs": [],
   "source": []
  }
 ],
 "metadata": {
  "kernelspec": {
   "display_name": "Python 3",
   "language": "python",
   "name": "python3"
  },
  "language_info": {
   "codemirror_mode": {
    "name": "ipython",
    "version": 3
   },
   "file_extension": ".py",
   "mimetype": "text/x-python",
   "name": "python",
   "nbconvert_exporter": "python",
   "pygments_lexer": "ipython3",
   "version": "3.7.7"
  }
 },
 "nbformat": 4,
 "nbformat_minor": 5
}
